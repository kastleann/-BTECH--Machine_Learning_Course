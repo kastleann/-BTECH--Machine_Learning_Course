{
  "nbformat": 4,
  "nbformat_minor": 0,
  "metadata": {
    "colab": {
      "name": "Scikit_learn_Assignment_M2_ML.ipynb",
      "provenance": [],
      "collapsed_sections": [
        "gkhojWhKwSJE",
        "00EsR0Ey2XS4",
        "puWnT3HI7ljK"
      ]
    },
    "kernelspec": {
      "name": "python3",
      "display_name": "Python 3"
    },
    "language_info": {
      "name": "python"
    }
  },
  "cells": [
    {
      "cell_type": "markdown",
      "source": [
        "# Module 2: Scikit-Learn Assignment (100 pts)"
      ],
      "metadata": {
        "id": "BPBUJrE8l9Pg"
      }
    },
    {
      "cell_type": "markdown",
      "source": [
        "For this assignment, we will analyze the dataset Iris using scikit-learn library. \n",
        "\n",
        "The main purpose of this assignment is to get familiar with Scikit-Learn. Later, we will learn how to use these tools better. "
      ],
      "metadata": {
        "id": "iZjnIgx_tYGr"
      }
    },
    {
      "cell_type": "markdown",
      "source": [
        "## **Problem #1 (30 pts)**"
      ],
      "metadata": {
        "id": "gkhojWhKwSJE"
      }
    },
    {
      "cell_type": "markdown",
      "source": [
        "Import the following:\n",
        "\n",
        "\n",
        "\n",
        "*   `numpy` as `np`\n",
        "*   `pandas` as `pd`\n",
        "*   `seaborn` as `sns`\n"
      ],
      "metadata": {
        "id": "CvZJKbP-wY65"
      }
    },
    {
      "cell_type": "markdown",
      "source": [
        "You should be familiar with the first two libraries. Please, read about the Seaborn library **[HERE](https://www.simplilearn.com/tutorials/python-tutorial/python-seaborn)**."
      ],
      "metadata": {
        "id": "Bj2ZYAYWzUY-"
      }
    },
    {
      "cell_type": "code",
      "source": [
        "#Import here all of them\n",
        "\n",
        "\n"
      ],
      "metadata": {
        "id": "EGd0se11i2V7"
      },
      "execution_count": null,
      "outputs": []
    },
    {
      "cell_type": "markdown",
      "source": [
        "## **Problem #2 (30 pts)**"
      ],
      "metadata": {
        "id": "00EsR0Ey2XS4"
      }
    },
    {
      "cell_type": "markdown",
      "source": [
        "Here we will import `load_iris` function from the datasets module using scikit-learn. Please, complete the code by printing the dataset using `print()`"
      ],
      "metadata": {
        "id": "61J7G1FR2jQR"
      }
    },
    {
      "cell_type": "code",
      "source": [
        "#Here learn how to use the scikit-learn library with datasets\n",
        "from sklearn.datasets import load_iris\n",
        "iris = load_iris()\n"
      ],
      "metadata": {
        "id": "4PibfC6VxhTT"
      },
      "execution_count": null,
      "outputs": []
    },
    {
      "cell_type": "code",
      "source": [
        "#Below print the Iris dataset and answer the questions (10 pts)\n",
        "\n"
      ],
      "metadata": {
        "id": "3BXoNyxyHgeN"
      },
      "execution_count": null,
      "outputs": []
    },
    {
      "cell_type": "markdown",
      "source": [
        "**Question #1: (10 pts)** \n",
        "\n",
        "What are the ***target names*** of the Iris dataset?"
      ],
      "metadata": {
        "id": "Inhezbmg4qKU"
      }
    },
    {
      "cell_type": "markdown",
      "source": [
        "**Answer:** \n",
        "\n"
      ],
      "metadata": {
        "id": "pfGsPOOn47v8"
      }
    },
    {
      "cell_type": "markdown",
      "source": [
        "**Question #2: (10 pts)** \n",
        "\n",
        "What is the name of the ***feature matrix*** and ***target array*** in the Iris dataset?"
      ],
      "metadata": {
        "id": "y5Oy1Il35SdO"
      }
    },
    {
      "cell_type": "markdown",
      "source": [
        "**Answer:** \n",
        "\n",
        "*   Feature matrix: ___________\n",
        "*   target array: ___________"
      ],
      "metadata": {
        "id": "knS40fun5hi9"
      }
    },
    {
      "cell_type": "markdown",
      "source": [
        "## **Problem #3 (20 pts)**"
      ],
      "metadata": {
        "id": "puWnT3HI7ljK"
      }
    },
    {
      "cell_type": "markdown",
      "source": [
        "**STEP 1: (5 pts)** \n",
        "\n",
        "Now we load the Iris dataset using pandas to compare to problem #2 as follows:\n",
        "\n",
        "\n",
        "*   Download the `Iris.csv` dataset in `Files` on Canvas.\n",
        "*   Upload this dataset in Colab.\n",
        "\n"
      ],
      "metadata": {
        "id": "YL4f-Nii7opL"
      }
    },
    {
      "cell_type": "markdown",
      "source": [
        "**STEP 2: (5 pts)**\n",
        "\n",
        "Use `.read_csv()` to load the Iris dataset:"
      ],
      "metadata": {
        "id": "iPxLCz63-FWs"
      }
    },
    {
      "cell_type": "code",
      "source": [
        "#Solution:\n",
        "#Don't forget to copy the path of the uploaded data file\n",
        "\n"
      ],
      "metadata": {
        "id": "8WX4ovRr7kkP"
      },
      "execution_count": null,
      "outputs": []
    },
    {
      "cell_type": "markdown",
      "source": [
        "**STEP 3: (5 pts)**\n",
        "\n",
        "Use `.head()` to see part of the dataset."
      ],
      "metadata": {
        "id": "CmhjMAyhAjV-"
      }
    },
    {
      "cell_type": "code",
      "source": [
        "#Solution:\n",
        "\n"
      ],
      "metadata": {
        "id": "0ZYFTTj83jXF"
      },
      "execution_count": null,
      "outputs": []
    },
    {
      "cell_type": "markdown",
      "source": [
        "**STEP 4: (5 pts)**\n",
        "\n",
        "Use `.info()` to know more about the dataframe."
      ],
      "metadata": {
        "id": "hi4fk2viAwVx"
      }
    },
    {
      "cell_type": "code",
      "source": [
        "#Solution\n",
        "\n"
      ],
      "metadata": {
        "id": "KlT3qIKKBSSb"
      },
      "execution_count": null,
      "outputs": []
    },
    {
      "cell_type": "markdown",
      "source": [
        "## **Problem #4 (20 pts)**"
      ],
      "metadata": {
        "id": "QTlD9I71Bxwd"
      }
    },
    {
      "cell_type": "markdown",
      "source": [
        "**Question 1: (10 pts)**\n",
        "\n",
        "What differences do you see between Problem 2 and Problem 3? Name at least 3 of them."
      ],
      "metadata": {
        "id": "Q5VbNM4qB10Y"
      }
    },
    {
      "cell_type": "markdown",
      "source": [
        "**Answer:**\n",
        "\n"
      ],
      "metadata": {
        "id": "kjNvNIJGCOng"
      }
    },
    {
      "cell_type": "markdown",
      "source": [
        "**Question 2: (10 pts)**\n",
        "\n",
        "Modeling with scikit-learn using Problem 3 as follows:\n",
        "\n",
        "*   Use `.drop` to create the feature matrix and store it in the variable `X`. You use the following code:\n",
        "\n",
        "```\n",
        "X = data.drop(['Id', 'Species'], axis=1)\n",
        "```\n",
        "\n",
        "*  Create the target array and store it in the variable `y` as follows:\n",
        "\n",
        "```\n",
        "y = data['Species']\n",
        "```"
      ],
      "metadata": {
        "id": "k4j7R1G-Dnb_"
      }
    },
    {
      "cell_type": "code",
      "source": [
        "#Make sure to copy the code here to run X and y\n",
        "\n"
      ],
      "metadata": {
        "id": "4MKEjoA9Isr2"
      },
      "execution_count": null,
      "outputs": []
    },
    {
      "cell_type": "markdown",
      "source": [
        "Use `print()` and `.shape()` to know the shape of the `y` variable.\n",
        "\n",
        "```\n",
        "print(y.shape)\n",
        "```"
      ],
      "metadata": {
        "id": "KtgRcnZcECCo"
      }
    },
    {
      "cell_type": "markdown",
      "source": [
        "Now use `print()` and `.shape()` to know the shape of the `X` variable."
      ],
      "metadata": {
        "id": "khW8PemqG4t9"
      }
    },
    {
      "cell_type": "code",
      "source": [
        "#Print the shape of X\n",
        "\n"
      ],
      "metadata": {
        "id": "yxBubaroGVK_"
      },
      "execution_count": null,
      "outputs": []
    }
  ]
}